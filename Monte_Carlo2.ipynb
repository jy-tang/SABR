{
 "cells": [
  {
   "cell_type": "code",
   "execution_count": 2,
   "metadata": {
    "collapsed": true
   },
   "outputs": [],
   "source": [
    "import numpy as np\n",
    "import math\n",
    "import itertools\n",
    "from typing import Iterable, Iterator, Tuple, TypeVar, Dict\n",
    "from dataclasses import dataclass\n",
    "import matplotlib.pyplot as plt\n",
    "from scipy.stats import norm\n",
    "import timeit\n",
    "from scipy.optimize import brentq\n",
    "from scipy.optimize import newton\n",
    "from IPython.display import clear_output\n",
    "\n",
    "from numba import jit"
   ]
  },
  {
   "cell_type": "code",
   "execution_count": 13,
   "outputs": [],
   "source": [
    "@jit(parallel=True)\n",
    "def get_value(F0:float,T:float,alpha0:float,beta:float,nu:float,\n",
    "    rho:float,  K: float, Nstep:int, Ntrace: int)->Tuple[float,float]:\n",
    "\n",
    "    payoff = np.zeros(Ntrace)\n",
    "    for itrace in range(Ntrace):\n",
    "        #if itrace%10==0:\n",
    "        #    clear_output(wait=True)\n",
    "        #    print(\"Trace #\" + str(itrace))\n",
    "\n",
    "        F1 = F0\n",
    "        F2 = F0\n",
    "        alpha1 = alpha0\n",
    "        alpha2 = alpha0\n",
    "        t = 0\n",
    "        dt = T/Nstep\n",
    "        #dt_list = np.flip(np.diff(np.geomspace(1e-5, self.T, num=self.Nstep),prepend=[0]))\n",
    "        X1 = np.random.randn(Nstep,1)\n",
    "        X2 = np.random.randn(Nstep,1)\n",
    "        Z=rho*X1+np.sqrt(1-rho**2)*X2\n",
    "        F1list = np.zeros(Nstep)\n",
    "        F2list = np.zeros(Nstep)\n",
    "        for istep in range(Nstep):\n",
    "            if F1<0 or F2 < 0:\n",
    "                break\n",
    "            F1 += alpha1*(F1**beta)*np.sqrt(dt)*X1[istep][0]\n",
    "            alpha1 += nu*alpha1*np.sqrt(dt)*Z[istep][0]\n",
    "            F1list[istep] = F1\n",
    "            F2 += alpha2*(F2**beta)*np.sqrt(dt)*X1[istep][0]*(-1)\n",
    "            alpha2 += nu*alpha2*np.sqrt(dt)*Z[istep][0]*(-1)\n",
    "            F2list[istep] = F2\n",
    "        #plt.plot(F1list,'b')\n",
    "\n",
    "\n",
    "        payoff1 = np.maximum(F1 - K,0)\n",
    "        payoff2 = np.maximum(F2 - K,0)\n",
    "\n",
    "        payoff[itrace] = (payoff1 + payoff2)/2\n",
    "\n",
    "\n",
    "\n",
    "\n",
    "    value = np.mean(payoff[~np.isnan(payoff)])\n",
    "    value_std = np.std(payoff[~np.isnan(payoff)])\n",
    "\n",
    "\n",
    "\n",
    "    return value, value_std/np.sqrt(Ntrace)\n",
    "\n",
    "def bs_call(F0:float, T:float, vol:float)->float:\n",
    "      d1 = (np.log(F0/K) + (0.5*vol**2)*T) / (vol*np.sqrt(T))\n",
    "      d2 = d1 - vol * np.sqrt(T)\n",
    "      return F0 * norm.cdf(d1) -  K*norm.cdf(d2)\n",
    "\n",
    "def im_vol(target_price:float,F0:float, T:float)->float:\n",
    "    MAX_ITERATIONS = 10000\n",
    "    PRECISION = 1.0e-7\n",
    "    sig_u, sig_d = 2, 0.2\n",
    "    sig = 0.5\n",
    "    price = bs_call(F0=F0, T=T, vol=sig)\n",
    "    err = target_price - price\n",
    "    count = 0\n",
    "    while abs(err)> PRECISION and count < MAX_ITERATIONS:\n",
    "        if err > 0:\n",
    "            sig_d = sig\n",
    "            sig = (sig_u + sig_d)/2\n",
    "        else:\n",
    "            sig_u = sig\n",
    "            sig = (sig_d + sig)/2\n",
    "        price = bs_call(F0=F0, T=T, vol=sig)\n",
    "        err = target_price - price\n",
    "        count += 1\n",
    "    return sig #"
   ],
   "metadata": {
    "collapsed": false,
    "pycharm": {
     "name": "#%%\n"
    }
   }
  },
  {
   "cell_type": "code",
   "execution_count": 17,
   "outputs": [
    {
     "name": "stdout",
     "output_type": "stream",
     "text": [
      "mean value is 0.06571940794110855\n",
      "std is 0.004607533069895403\n",
      "implied vol is 0.41968221664428706\n"
     ]
    }
   ],
   "source": [
    "F0 = 1.0\n",
    "T = 2.0\n",
    "alpha0 = 0.35\n",
    "beta = 0.25\n",
    "nu = 1.0\n",
    "rho = 0.25\n",
    "K = 1.8\n",
    "Nstep = 5000\n",
    "Ntrace = 5000\n",
    "\n",
    "mean_value,std_value = get_value(F0 = F0, T = T, alpha0 = alpha0, beta = beta, nu = nu,\n",
    "    rho = rho, K=K, Nstep=Nstep, Ntrace=Ntrace)\n",
    "print(\"mean value is \" + str(mean_value))\n",
    "print(\"std is \" + str(std_value))\n",
    "\n",
    "vol = im_vol(target_price = mean_value,F0=F0, T=T)\n",
    "print(\"implied vol is \" + str(vol))"
   ],
   "metadata": {
    "collapsed": false,
    "pycharm": {
     "name": "#%%\n"
    }
   }
  },
  {
   "cell_type": "code",
   "execution_count": 15,
   "outputs": [
    {
     "name": "stdout",
     "output_type": "stream",
     "text": [
      "K =0.6\n"
     ]
    },
    {
     "ename": "NameError",
     "evalue": "name 'beata' is not defined",
     "output_type": "error",
     "traceback": [
      "\u001B[1;31m---------------------------------------------------------------------------\u001B[0m",
      "\u001B[1;31mNameError\u001B[0m                                 Traceback (most recent call last)",
      "\u001B[1;32m<ipython-input-15-6b0c3de07d65>\u001B[0m in \u001B[0;36m<module>\u001B[1;34m\u001B[0m\n\u001B[0;32m      4\u001B[0m \u001B[1;32mfor\u001B[0m \u001B[0mK\u001B[0m \u001B[1;32min\u001B[0m \u001B[0mKlist\u001B[0m\u001B[1;33m:\u001B[0m\u001B[1;33m\u001B[0m\u001B[1;33m\u001B[0m\u001B[0m\n\u001B[0;32m      5\u001B[0m     \u001B[0mprint\u001B[0m\u001B[1;33m(\u001B[0m\u001B[1;34m\"K =\"\u001B[0m \u001B[1;33m+\u001B[0m\u001B[0mstr\u001B[0m\u001B[1;33m(\u001B[0m\u001B[0mK\u001B[0m\u001B[1;33m)\u001B[0m\u001B[1;33m)\u001B[0m\u001B[1;33m\u001B[0m\u001B[1;33m\u001B[0m\u001B[0m\n\u001B[1;32m----> 6\u001B[1;33m     mean_value,std_value = get_value(F0 = F0, T = T, alpha0 = alpha0, beta = beata, nu = nu,\n\u001B[0m\u001B[0;32m      7\u001B[0m         rho = rho, K=K, Nstep=Nstep, Ntrace=Ntrace)\n\u001B[0;32m      8\u001B[0m     \u001B[0mvalue_list\u001B[0m\u001B[1;33m.\u001B[0m\u001B[0mappend\u001B[0m\u001B[1;33m(\u001B[0m\u001B[0mmean_value\u001B[0m\u001B[1;33m)\u001B[0m\u001B[1;33m\u001B[0m\u001B[1;33m\u001B[0m\u001B[0m\n",
      "\u001B[1;31mNameError\u001B[0m: name 'beata' is not defined"
     ]
    }
   ],
   "source": [
    "vol_list = []\n",
    "value_list = []\n",
    "Klist = np.linspace(0.6,1.9,10)\n",
    "for K in Klist:\n",
    "    print(\"K =\" +str(K))\n",
    "    mean_value,std_value = get_value(F0 = F0, T = T, alpha0 = alpha0, beta = beata, nu = nu,\n",
    "        rho = rho, K=K, Nstep=Nstep, Ntrace=Ntrace)\n",
    "    value_list.append(mean_value)\n",
    "    vol = im_vol(target_price = mean_value,F0=F0, T=T)\n",
    "    vol_list.append(vol)\n",
    "\n",
    "plt.plot(Klist,value_list)\n",
    "plt.figure()\n",
    "plt.plot(Klist,vol_list)\n",
    "\n"
   ],
   "metadata": {
    "collapsed": false,
    "pycharm": {
     "name": "#%%\n"
    }
   }
  },
  {
   "cell_type": "code",
   "execution_count": null,
   "outputs": [],
   "source": [],
   "metadata": {
    "collapsed": false,
    "pycharm": {
     "name": "#%%\n"
    }
   }
  }
 ],
 "metadata": {
  "kernelspec": {
   "display_name": "Python 3",
   "language": "python",
   "name": "python3"
  },
  "language_info": {
   "codemirror_mode": {
    "name": "ipython",
    "version": 2
   },
   "file_extension": ".py",
   "mimetype": "text/x-python",
   "name": "python",
   "nbconvert_exporter": "python",
   "pygments_lexer": "ipython2",
   "version": "2.7.6"
  }
 },
 "nbformat": 4,
 "nbformat_minor": 0
}